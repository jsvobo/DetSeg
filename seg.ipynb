{
 "cells": [
  {
   "cell_type": "code",
   "execution_count": 1,
   "metadata": {},
   "outputs": [],
   "source": [
    "%matplotlib inline\n",
    "%load_ext autoreload\n",
    "%autoreload 2\n",
    "\n",
    "import matplotlib.pyplot as plt\n",
    "from dataset_loading import DatasetCOCO, load_coco\n",
    "import pycocotools\n",
    "\n",
    "from torchvision.utils import make_grid,draw_bounding_boxes,draw_segmentation_masks"
   ]
  },
  {
   "cell_type": "code",
   "execution_count": 2,
   "metadata": {},
   "outputs": [
    {
     "name": "stderr",
     "output_type": "stream",
     "text": [
      "<frozen importlib._bootstrap>:219: RuntimeWarning: numpy.ufunc size changed, may indicate binary incompatibility. Expected 216 from C header, got 232 from PyObject\n"
     ]
    },
    {
     "name": "stdout",
     "output_type": "stream",
     "text": [
      "loading annotations into memory...\n",
      "Done (t=15.93s)\n",
      "creating index...\n",
      "index created!\n",
      "loading annotations into memory...\n",
      "Done (t=18.84s)\n",
      "creating index...\n",
      "index created!\n",
      "loading annotations into memory...\n",
      "Done (t=0.45s)\n",
      "creating index...\n",
      "index created!\n",
      "loading annotations into memory...\n",
      "Done (t=4.47s)\n",
      "creating index...\n",
      "index created!\n",
      "loading annotations into memory...\n",
      "Done (t=0.08s)\n",
      "creating index...\n",
      "index created!\n",
      "loading annotations into memory...\n",
      "Done (t=0.07s)\n",
      "creating index...\n",
      "index created!\n"
     ]
    }
   ],
   "source": [
    "data = load_coco()['train']"
   ]
  },
  {
   "cell_type": "code",
   "execution_count": 6,
   "metadata": {},
   "outputs": [
    {
     "ename": "KeyError",
     "evalue": "'api'",
     "output_type": "error",
     "traceback": [
      "\u001b[0;31m---------------------------------------------------------------------------\u001b[0m",
      "\u001b[0;31mKeyError\u001b[0m                                  Traceback (most recent call last)",
      "Cell \u001b[0;32mIn[6], line 4\u001b[0m\n\u001b[1;32m      2\u001b[0m \u001b[38;5;28;01mfor\u001b[39;00m i \u001b[38;5;129;01min\u001b[39;00m \u001b[38;5;28mrange\u001b[39m(images_to_show):\n\u001b[1;32m      3\u001b[0m     img \u001b[38;5;241m=\u001b[39m data[\u001b[38;5;124m'\u001b[39m\u001b[38;5;124mdataset\u001b[39m\u001b[38;5;124m'\u001b[39m][i]\n\u001b[0;32m----> 4\u001b[0m     api_class \u001b[38;5;241m=\u001b[39m \u001b[43mdata\u001b[49m\u001b[43m[\u001b[49m\u001b[38;5;124;43m'\u001b[39;49m\u001b[38;5;124;43mapi\u001b[39;49m\u001b[38;5;124;43m'\u001b[39;49m\u001b[43m]\u001b[49m\n\u001b[1;32m      6\u001b[0m     \u001b[38;5;66;03m#print masks\u001b[39;00m\n\u001b[1;32m      7\u001b[0m     \u001b[38;5;28;01mfor\u001b[39;00m item \u001b[38;5;129;01min\u001b[39;00m img[\u001b[38;5;241m1\u001b[39m]: \n\u001b[1;32m      8\u001b[0m         \u001b[38;5;66;03m#print(item)\u001b[39;00m\n",
      "\u001b[0;31mKeyError\u001b[0m: 'api'"
     ]
    }
   ],
   "source": [
    "images_to_show =3\n",
    "for i in range(images_to_show):\n",
    "    img = data['dataset'][i]\n",
    "    api_class = data['annotations']\n",
    "\n",
    "    #print masks\n",
    "    for item in img[1]: \n",
    "        #print(item)\n",
    "        pass\n",
    "\n",
    "    #just image\n",
    "    plt.imshow(img[0])\n",
    "    plt.axis('off')\n",
    "    plt.show()\n",
    "\n",
    "    #with masks\n",
    "    for rle in img[1]:\n",
    "        mask = api_class.annToMask(rle)\n",
    "        plt.imshow(img[0])\n",
    "        plt.imshow(mask, cmap='jet', alpha=0.7)\n",
    "        plt.axis('off')\n",
    "\n",
    "        box = rle['bbox']\n",
    "        plt.plot([box[0], box[0] + box[2], box[0] + box[2], box[0], box[0]],\n",
    "                 [box[1], box[1], box[1] + box[3], box[1] + box[3], box[1]],\n",
    "                 color='red', linewidth=2)\n",
    "        plt.show()\n",
    "\n",
    "\n",
    "\n"
   ]
  }
 ],
 "metadata": {
  "kernelspec": {
   "display_name": "svobo114_project",
   "language": "python",
   "name": "python3"
  },
  "language_info": {
   "codemirror_mode": {
    "name": "ipython",
    "version": 3
   },
   "file_extension": ".py",
   "mimetype": "text/x-python",
   "name": "python",
   "nbconvert_exporter": "python",
   "pygments_lexer": "ipython3",
   "version": "3.8.19"
  }
 },
 "nbformat": 4,
 "nbformat_minor": 2
}
