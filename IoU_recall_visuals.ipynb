{
 "cells": [
  {
   "cell_type": "code",
   "execution_count": 1,
   "metadata": {},
   "outputs": [],
   "source": [
    "%matplotlib inline\n",
    "%load_ext autoreload\n",
    "%autoreload 2\n",
    " \n",
    "import matplotlib.pyplot as plt\n",
    "import numpy as np\n",
    "import os\n",
    "import pandas as pd\n",
    "\n",
    "import torch \n",
    "import utils \n",
    "\n",
    "import pprint\n",
    "import datasets"
   ]
  },
  {
   "cell_type": "code",
   "execution_count": 41,
   "metadata": {},
   "outputs": [],
   "source": [
    "path = \"./out/pipeline_results/GroundingDinoTiny_SamWrapper_h_categories_imagenet_val_40_09_10 \"\n",
    "loader = datasets.ResultLoader(path)\n",
    "name = loader.load_config()[\"dataset\"][\"name\"]\n",
    "dataset = (\n",
    "    loader.load_same_dataset()\n",
    ")  # prepare the same dataset is is in config for visuals?\n",
    "# Links to result folders for coco dataset for different sets of prompts using different detection (or prompts)\n",
    "#       coco classes:\n",
    "#       general:\n",
    "#       categories:\n",
    "#       GT without middle:\n",
    "# Imagenet small samples:\n",
    "#   ./out/pipeline_results/GroundingDinoTiny_SamWrapper_h_categories_imagenet_val_40_09_10\n",
    "#   ./out/pipeline_results/GroundingDinoTiny_SamWrapper_b_categories_imagenet_val_30_09_10"
   ]
  },
  {
   "cell_type": "code",
   "execution_count": null,
   "metadata": {},
   "outputs": [],
   "source": [
    "result_dict = loader.load_metrics()\n",
    "# can load whatever here, then dissect the metrics dict\n",
    "print(result_dict[\"detection\"].keys())\n",
    "\n",
    "print(\"\\nDetection avg. IoU:\")\n",
    "print(result_dict[\"detection\"][\"avg iou\"])"
   ]
  },
  {
   "cell_type": "code",
   "execution_count": null,
   "metadata": {},
   "outputs": [],
   "source": [
    "utils.do_overview(loader=loader)"
   ]
  },
  {
   "cell_type": "code",
   "execution_count": null,
   "metadata": {},
   "outputs": [],
   "source": [
    "d = utils.load_missed_aggregate_per_class(loader, dataset)\n",
    "agg_classes = d[\"boxes_per_class\"]\n",
    "\n",
    "# sort this frame by class by total\n",
    "agg_classes = agg_classes.sort_values(by=\"total\", ascending=False)\n",
    "print(agg_classes[[\"category\", \"total\"]].head())\n",
    "agg_classes[[\"category\", \"part_missed\"]].plot(\n",
    "    x=\"category\",\n",
    "    title=f\"Relative amount missed per class, {name}\",\n",
    "    kind=\"bar\",\n",
    "    figsize=(30, 6),\n",
    "    grid=True,\n",
    "    fontsize=14,\n",
    ")"
   ]
  },
  {
   "cell_type": "markdown",
   "metadata": {},
   "source": [
    "### Image visualisations, per class"
   ]
  },
  {
   "cell_type": "code",
   "execution_count": null,
   "metadata": {},
   "outputs": [],
   "source": [
    "class_to_find = \"bird\"\n",
    "class_id = dataset.class_name_to_new_ID(class_to_find)\n",
    "print(\"class id in coco default classes: \", class_id)\n",
    "\n",
    "# load and aggregate boxes and masks, per class and filtered by iou=0.0\n",
    "d = utils.load_missed_aggregate_per_class(loader, dataset)\n",
    "missed_boxes = d[\"frame_boxes\"]\n",
    "\n",
    "# which images have missed boxes from this one class?\n",
    "only_one_class = missed_boxes[missed_boxes[\"gt_class\"] == class_id]\n",
    "image_ids = only_one_class[\"image_id\"].unique()\n",
    "\n",
    "# visuals\n",
    "for how_much, image_index in enumerate(image_ids):\n",
    "    # filter all the boxes per image , in one image..\n",
    "    if how_much > 30:  # early stop, too much images\n",
    "        break\n",
    "\n",
    "    idx = int(image_index)\n",
    "    print(f\"Image index: {idx}\")\n",
    "    for_image = only_one_class[only_one_class[\"image_id\"] == idx]\n",
    "    aggregated_gt = for_image[\"gt\"].values\n",
    "\n",
    "    image = dataset[idx][\"image\"]\n",
    "    utils.print_masks_boxes(image=image, masks=None, boxes=aggregated_gt, scale=8)"
   ]
  },
  {
   "cell_type": "markdown",
   "metadata": {},
   "source": [
    "### Visualise stored detections:"
   ]
  },
  {
   "cell_type": "code",
   "execution_count": null,
   "metadata": {},
   "outputs": [],
   "source": [
    "indices = np.arange(10)  # can eb anything alse, maybe filter results by some criterion?\n",
    "for idx in indices:\n",
    "    d = loader.load_results_per_image(idx)\n",
    "    image = dataset[idx][\"image\"]\n",
    "    boxes = []  # d[\"boxes\"]  # d[\"boxes\"]\n",
    "    utils.print_masks_boxes(\n",
    "        image=image, masks=d[\"masks\"], boxes=boxes, scale=8, linewidth=2\n",
    "    )"
   ]
  },
  {
   "cell_type": "markdown",
   "metadata": {},
   "source": [
    "### Comparison, per class"
   ]
  },
  {
   "cell_type": "code",
   "execution_count": null,
   "metadata": {},
   "outputs": [],
   "source": [
    "paths = [\n",
    "    \"./out/pipeline_results/GroundingDinoTiny_SamWrapper_b_dataset_defaults_coco_val_5000_09_04\",\n",
    "    \"./out/pipeline_results/GroundingDinoTiny_SamWrapper_b_general_coco_val_5000_09_04\",\n",
    "    \"./out/pipeline_results/GroundingDinoTiny_SamWrapper_b_categories_coco_val_5000_09_04\",\n",
    "]\n",
    "names = [\"Coco classes\", \"General\", \"Categories\"]\n",
    "\n",
    "absolute, relative = utils.prompt_sets_comparison(\n",
    "    paths=paths, names=names, dataset=dataset\n",
    ")\n",
    "absolute = absolute.sort_values(by=\"Totals\", ascending=False)\n",
    "relative = relative.sort_values(by=\"Totals\", ascending=False)\n",
    "\n",
    "to_show = absolute.columns[:4]\n",
    "fontsize = 14\n",
    "figsize = (30, 6)\n",
    "# plot grouped bar chart\n",
    "absolute[to_show].plot(\n",
    "    x=\"Category\",\n",
    "    kind=\"bar\",\n",
    "    stacked=False,\n",
    "    title=\"Missed Instances per class\",\n",
    "    figsize=figsize,\n",
    "    fontsize=fontsize,\n",
    ")\n",
    "\n",
    "# plot grouped bar chart\n",
    "relative[to_show].plot(\n",
    "    x=\"Category\",\n",
    "    kind=\"bar\",\n",
    "    stacked=False,\n",
    "    title=\"Percentage of Missed Instances per class\",\n",
    "    figsize=figsize,\n",
    "    fontsize=fontsize,\n",
    ")\n",
    "absolute[[\"Totals\", \"Category\"]].plot(\n",
    "    x=\"Category\",\n",
    "    title=\"Total amount per class\",\n",
    "    kind=\"bar\",\n",
    "    figsize=figsize,\n",
    "    grid=True,\n",
    "    fontsize=fontsize,\n",
    ")\n",
    "\n",
    "absolute[[\"Totals\", \"Category\"]].plot(\n",
    "    x=\"Category\",\n",
    "    kind=\"bar\",\n",
    "    figsize=figsize,\n",
    "    title=\"Total amount per class, log scale\",\n",
    "    logy=True,\n",
    "    grid=True,\n",
    "    fontsize=fontsize,\n",
    ")"
   ]
  }
 ],
 "metadata": {
  "kernelspec": {
   "display_name": "detect_env_clone",
   "language": "python",
   "name": "python3"
  },
  "language_info": {
   "codemirror_mode": {
    "name": "ipython",
    "version": 3
   },
   "file_extension": ".py",
   "mimetype": "text/x-python",
   "name": "python",
   "nbconvert_exporter": "python",
   "pygments_lexer": "ipython3",
   "version": "3.11.9"
  }
 },
 "nbformat": 4,
 "nbformat_minor": 2
}
