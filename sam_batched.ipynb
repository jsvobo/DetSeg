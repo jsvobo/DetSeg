{
 "cells": [
  {
   "cell_type": "code",
   "execution_count": 1,
   "metadata": {},
   "outputs": [
    {
     "name": "stderr",
     "output_type": "stream",
     "text": [
      "/home.stud/svobo114/.conda/envs/detect_env_clone/lib/python3.11/site-packages/tqdm/auto.py:22: TqdmWarning: IProgress not found. Please update jupyter and ipywidgets. See https://ipywidgets.readthedocs.io/en/stable/user_install.html\n",
      "  from .autonotebook import tqdm as notebook_tqdm\n"
     ]
    }
   ],
   "source": [
    "%matplotlib inline\n",
    "%load_ext autoreload\n",
    "%autoreload 2\n",
    "\n",
    "#libs\n",
    "import matplotlib.pyplot as plt\n",
    "from matplotlib import colormaps\n",
    "import numpy as np\n",
    "import os\n",
    "import torch\n",
    "from torch.utils.data import DataLoader\n",
    "import torchvision\n",
    "from torchvision.transforms.functional import pil_to_tensor\n",
    "import gc\n",
    "\n",
    "from torchmetrics import JaccardIndex\n",
    "\n",
    "#our classes\n",
    "import utils #contains sam_utils, visual_utils, and other utility functions\n",
    "from datasets.dataset_loading import CocoLoader \n",
    "\n",
    "#sam\n",
    "from segment_anything import SamPredictor, sam_model_registry, SamAutomaticMaskGenerator\n",
    "from segment_anything.utils.transforms import ResizeLongestSide"
   ]
  },
  {
   "cell_type": "code",
   "execution_count": 2,
   "metadata": {},
   "outputs": [
    {
     "name": "stdout",
     "output_type": "stream",
     "text": [
      "CUDA available:True\n",
      "CUDA_HOME:/home.stud/svobo114/.conda/envs/detect_env_clone\n",
      "[<torch.cuda.device object at 0x7f954b124790>]\n",
      "1\n"
     ]
    }
   ],
   "source": [
    "#CUDA tests\n",
    "os.environ[\"CUDA_VISIBLE_DEVICES\"] = \"1\" #might not be viable, check again!\n",
    "\n",
    "print(\"CUDA available:\" + str(torch.cuda.is_available()))\n",
    "from torch.utils.cpp_extension import CUDA_HOME\n",
    "print(\"CUDA_HOME:\" + str(CUDA_HOME))\n",
    "torch.device('cuda' if torch.cuda.is_available() else 'cpu')\n",
    "\n",
    "available_gpus = [torch.cuda.device(i) for i in range(torch.cuda.device_count())]\n",
    "print(available_gpus)\n",
    "print(torch.cuda.device_count())"
   ]
  },
  {
   "cell_type": "code",
   "execution_count": 3,
   "metadata": {},
   "outputs": [
    {
     "name": "stdout",
     "output_type": "stream",
     "text": [
      "loading annotations into memory...\n",
      "Done (t=18.38s)\n",
      "creating index...\n",
      "index created!\n",
      "loading annotations into memory...\n",
      "Done (t=9.29s)\n",
      "creating index...\n",
      "index created!\n"
     ]
    }
   ],
   "source": [
    "coco=CocoLoader() \n",
    "transforms = None\n",
    "data_train, api = coco.load_train(transformations=transforms)"
   ]
  },
  {
   "cell_type": "code",
   "execution_count": 4,
   "metadata": {},
   "outputs": [
    {
     "name": "stderr",
     "output_type": "stream",
     "text": [
      "/home.stud/svobo114/.conda/envs/detect_env_clone/lib/python3.11/site-packages/segment_anything/build_sam.py:105: FutureWarning: You are using `torch.load` with `weights_only=False` (the current default value), which uses the default pickle module implicitly. It is possible to construct malicious pickle data which will execute arbitrary code during unpickling (See https://github.com/pytorch/pytorch/blob/main/SECURITY.md#untrusted-models for more details). In a future release, the default value for `weights_only` will be flipped to `True`. This limits the functions that could be executed during unpickling. Arbitrary objects will no longer be allowed to be loaded via this mode unless they are explicitly allowlisted by the user via `torch.serialization.add_safe_globals`. We recommend you start setting `weights_only=True` for any use case where you don't have full control of the loaded file. Please open an issue on GitHub for any issues related to this experimental feature.\n",
      "  state_dict = torch.load(f)\n"
     ]
    }
   ],
   "source": [
    "predictor,sam = utils.prepare_sam(\"cuda\")\n",
    "resize_transform = ResizeLongestSide(sam.image_encoder.img_size)"
   ]
  },
  {
   "cell_type": "code",
   "execution_count": 35,
   "metadata": {},
   "outputs": [],
   "source": [
    "# Set batch size and number of workers\n",
    "batch_size = 2\n",
    "num_workers = 4\n",
    "shuffle=True\n",
    "\n",
    "# Clear CUDA cache\n",
    "with torch.no_grad():\n",
    "    torch.cuda.empty_cache()\n",
    "gc.collect()\n",
    "\n",
    "# Create DataLoader from the training dataset\n",
    "data_loader =  DataLoader(\n",
    "            data_train,\n",
    "            batch_size=batch_size,\n",
    "            shuffle=shuffle,\n",
    "            num_workers=num_workers,\n",
    "            collate_fn=lambda x: tuple(zip(*x)),\n",
    "        )\n",
    "\n",
    "# 1 for 20 GB GPU with cca 7 boxes per image -> batch<=4, maybe 5 if lucky"
   ]
  },
  {
   "cell_type": "code",
   "execution_count": 53,
   "metadata": {},
   "outputs": [
    {
     "ename": "ValueError",
     "evalue": "`num_classes` is expected to be `int` but `<class 'NoneType'> was passed.`",
     "output_type": "error",
     "traceback": [
      "\u001b[0;31m---------------------------------------------------------------------------\u001b[0m",
      "\u001b[0;31mValueError\u001b[0m                                Traceback (most recent call last)",
      "Cell \u001b[0;32mIn[53], line 16\u001b[0m\n\u001b[1;32m     13\u001b[0m torch\u001b[38;5;241m.\u001b[39mcuda\u001b[38;5;241m.\u001b[39mreset_peak_memory_stats()\n\u001b[1;32m     14\u001b[0m gc\u001b[38;5;241m.\u001b[39mcollect()\n\u001b[0;32m---> 16\u001b[0m dataset_IoU\u001b[38;5;241m=\u001b[39m \u001b[43mJaccardIndex\u001b[49m\u001b[43m(\u001b[49m\u001b[43mtask\u001b[49m\u001b[38;5;241;43m=\u001b[39;49m\u001b[38;5;124;43m\"\u001b[39;49m\u001b[38;5;124;43mmulticlass\u001b[39;49m\u001b[38;5;124;43m\"\u001b[39;49m\u001b[43m)\u001b[49m\n\u001b[1;32m     18\u001b[0m \u001b[38;5;66;03m#run batches\u001b[39;00m\n\u001b[1;32m     19\u001b[0m \u001b[38;5;28;01mfor\u001b[39;00m i, batch \u001b[38;5;129;01min\u001b[39;00m \u001b[38;5;28menumerate\u001b[39m(data_loader):\n",
      "File \u001b[0;32m~/.conda/envs/detect_env_clone/lib/python3.11/site-packages/torchmetrics/classification/jaccard.py:464\u001b[0m, in \u001b[0;36mJaccardIndex.__new__\u001b[0;34m(cls, task, threshold, num_classes, num_labels, average, ignore_index, validate_args, **kwargs)\u001b[0m\n\u001b[1;32m    462\u001b[0m \u001b[38;5;28;01mif\u001b[39;00m task \u001b[38;5;241m==\u001b[39m ClassificationTask\u001b[38;5;241m.\u001b[39mMULTICLASS:\n\u001b[1;32m    463\u001b[0m     \u001b[38;5;28;01mif\u001b[39;00m \u001b[38;5;129;01mnot\u001b[39;00m \u001b[38;5;28misinstance\u001b[39m(num_classes, \u001b[38;5;28mint\u001b[39m):\n\u001b[0;32m--> 464\u001b[0m         \u001b[38;5;28;01mraise\u001b[39;00m \u001b[38;5;167;01mValueError\u001b[39;00m(\u001b[38;5;124mf\u001b[39m\u001b[38;5;124m\"\u001b[39m\u001b[38;5;124m`num_classes` is expected to be `int` but `\u001b[39m\u001b[38;5;132;01m{\u001b[39;00m\u001b[38;5;28mtype\u001b[39m(num_classes)\u001b[38;5;132;01m}\u001b[39;00m\u001b[38;5;124m was passed.`\u001b[39m\u001b[38;5;124m\"\u001b[39m)\n\u001b[1;32m    465\u001b[0m     \u001b[38;5;28;01mreturn\u001b[39;00m MulticlassJaccardIndex(num_classes, average, \u001b[38;5;241m*\u001b[39m\u001b[38;5;241m*\u001b[39mkwargs)\n\u001b[1;32m    466\u001b[0m \u001b[38;5;28;01mif\u001b[39;00m task \u001b[38;5;241m==\u001b[39m ClassificationTask\u001b[38;5;241m.\u001b[39mMULTILABEL:\n",
      "\u001b[0;31mValueError\u001b[0m: `num_classes` is expected to be `int` but `<class 'NoneType'> was passed.`"
     ]
    }
   ],
   "source": [
    "\n",
    "#for a batch:\n",
    "    #get boxes from the anns, + masks\n",
    "    #load all images and prompts into a list for batch\n",
    "    #sam() on the batch\n",
    "    #take the best mask for each box\n",
    "    #take scores etc\n",
    "    #calculate IoU for each mask\n",
    "    #recall?\n",
    "    \n",
    "#CUDA cleanup before running\n",
    "\n",
    "torch.cuda.empty_cache()\n",
    "torch.cuda.reset_peak_memory_stats()\n",
    "gc.collect()\n",
    "\n",
    "dataset_IoU= JaccardIndex(task=\"binary\")\n",
    "\n",
    "#run batches\n",
    "for i, batch in enumerate(data_loader):\n",
    "    print(\"Batch: \"+str(i))\n",
    "    images_pil = list(batch[0])\n",
    "    metadata = list(batch[1])\n",
    "\n",
    "    #separate GT for metrics\n",
    "    gt_boxes=[]\n",
    "    gt_masks=[]\n",
    "    for j in range(len(images_pil)):\n",
    "        masks_img, boxes_img = utils.coco_masks_boxes(metadata[j], api) # passing api class from training dta, blank would suffice\n",
    "        boxes_img = torch.Tensor(utils.boxes_coco_to_sam(boxes_img)) #change format and to tensor\n",
    "        gt_boxes.append(boxes_img)\n",
    "        gt_masks.append(masks_img)\n",
    "    gt_masks=gt_masks\n",
    "    gt_boxes=gt_boxes\n",
    "\n",
    "\n",
    "    # TODO for now using GT boxes, later detection module HERE \n",
    "    inferrence_boxes=gt_boxes \n",
    "\n",
    "    #prepare input for batch\n",
    "    sam_batched_inputs=[]\n",
    "    for j in range(len(images_pil)): \n",
    "        img = np.array(images_pil[j])\n",
    "        dict_img={\n",
    "                    'image': utils.prepare_image_for_batch(img, resize_transform, sam.device),\n",
    "                    'boxes': resize_transform.apply_boxes_torch(inferrence_boxes[j].to(sam.device),img.shape[:2]),\n",
    "                    'original_size': img.shape[:2]\n",
    "                    }\n",
    "        sam_batched_inputs.append(dict_img)\n",
    "    \n",
    "    #run inference\n",
    "    batched_output = sam(sam_batched_inputs, multimask_output=True) \n",
    "\n",
    "    #Take best masks in each image\n",
    "    for j,dict_output in enumerate(batched_output):      #dict_keys(['masks', 'iou_predictions', 'low_res_logits'])\n",
    "        pred_quality = dict_output['iou_predictions']\n",
    "        best=np.argmax(pred_quality.cpu(),axis=1)\n",
    "        \n",
    "        arange=torch.arange(best.shape[0])\n",
    "        best_masks = dict_output['masks'][arange,best]\n",
    "\n",
    "        #calculate metrics\n",
    "        dataset_IoU.update(best_masks.cpu(),torch.Tensor(gt_masks[j])) #both on cpu? \n",
    "\n",
    "\n",
    "    print(\"Max GB allocated: \"+ str(torch.cuda.max_memory_allocated()//1000000000)+\".\"+str((torch.cuda.max_memory_allocated()%1000_000_000)//1_000_000))\n",
    "    if i >=0: #just few batches for now\n",
    "        print(\"Mean IoU: \"+str(dataset_IoU.compute()))\n",
    "        break\n",
    "\n",
    "\n",
    "#CUDA cleanup after running\n",
    "with torch.no_grad():\n",
    "    torch.cuda.empty_cache()\n",
    "gc.collect()\n",
    "    "
   ]
  },
  {
   "cell_type": "code",
   "execution_count": 33,
   "metadata": {},
   "outputs": [
    {
     "ename": "ZeroDivisionError",
     "evalue": "division by zero",
     "output_type": "error",
     "traceback": [
      "\u001b[0;31m---------------------------------------------------------------------------\u001b[0m",
      "\u001b[0;31mZeroDivisionError\u001b[0m                         Traceback (most recent call last)",
      "Cell \u001b[0;32mIn[33], line 1\u001b[0m\n\u001b[0;32m----> 1\u001b[0m \u001b[38;5;28mprint\u001b[39m(\u001b[38;5;241;43m1\u001b[39;49m\u001b[38;5;241;43m/\u001b[39;49m\u001b[38;5;241;43m0\u001b[39;49m)\n",
      "\u001b[0;31mZeroDivisionError\u001b[0m: division by zero"
     ]
    }
   ],
   "source": [
    "print(1/0)"
   ]
  }
 ],
 "metadata": {
  "kernelspec": {
   "display_name": "detect_env_clone",
   "language": "python",
   "name": "python3"
  },
  "language_info": {
   "codemirror_mode": {
    "name": "ipython",
    "version": 3
   },
   "file_extension": ".py",
   "mimetype": "text/x-python",
   "name": "python",
   "nbconvert_exporter": "python",
   "pygments_lexer": "ipython3",
   "version": "3.11.9"
  }
 },
 "nbformat": 4,
 "nbformat_minor": 2
}
