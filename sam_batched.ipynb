{
 "cells": [
  {
   "cell_type": "code",
   "execution_count": 24,
   "metadata": {},
   "outputs": [
    {
     "name": "stdout",
     "output_type": "stream",
     "text": [
      "The autoreload extension is already loaded. To reload it, use:\n",
      "  %reload_ext autoreload\n"
     ]
    }
   ],
   "source": [
    "%matplotlib inline\n",
    "%load_ext autoreload\n",
    "%autoreload 2\n",
    "\n",
    "#libs\n",
    "import matplotlib.pyplot as plt\n",
    "from matplotlib import colormaps\n",
    "import numpy as np\n",
    "import os\n",
    "import gc\n",
    "\n",
    "import torch \n",
    "from torch.utils.data import DataLoader\n",
    "from torch.utils.cpp_extension import CUDA_HOME\n",
    "\n",
    "import torchvision\n",
    "from torchvision.transforms.functional import pil_to_tensor\n",
    "from torchmetrics import JaccardIndex\n",
    "\n",
    "#our classes\n",
    "import utils \n",
    "from datasets.dataset_loading import CocoLoader,get_coco_split\n",
    "import segmentation_models \n"
   ]
  },
  {
   "cell_type": "code",
   "execution_count": 39,
   "metadata": {},
   "outputs": [
    {
     "ename": "AttributeError",
     "evalue": "module 'torchmetrics.functional' has no attribute 'iou'",
     "output_type": "error",
     "traceback": [
      "\u001b[0;31m---------------------------------------------------------------------------\u001b[0m",
      "\u001b[0;31mAttributeError\u001b[0m                            Traceback (most recent call last)",
      "Cell \u001b[0;32mIn[39], line 9\u001b[0m\n\u001b[1;32m      6\u001b[0m target \u001b[38;5;241m=\u001b[39m torch\u001b[38;5;241m.\u001b[39mrandint(\u001b[38;5;241m0\u001b[39m, \u001b[38;5;241m2\u001b[39m, (\u001b[38;5;241m10\u001b[39m, \u001b[38;5;241m10\u001b[39m))  \u001b[38;5;66;03m# Simulated target mask\u001b[39;00m\n\u001b[1;32m      8\u001b[0m \u001b[38;5;66;03m# Calculate IoU for binary classification\u001b[39;00m\n\u001b[0;32m----> 9\u001b[0m iou \u001b[38;5;241m=\u001b[39m \u001b[43mF\u001b[49m\u001b[38;5;241;43m.\u001b[39;49m\u001b[43miou\u001b[49m(pred, target, num_classes\u001b[38;5;241m=\u001b[39m\u001b[38;5;241m2\u001b[39m, reduction\u001b[38;5;241m=\u001b[39m\u001b[38;5;124m\"\u001b[39m\u001b[38;5;124mnone\u001b[39m\u001b[38;5;124m\"\u001b[39m)\n\u001b[1;32m     10\u001b[0m \u001b[38;5;28mprint\u001b[39m(iou)\n",
      "\u001b[0;31mAttributeError\u001b[0m: module 'torchmetrics.functional' has no attribute 'iou'"
     ]
    }
   ],
   "source": [
    "import torch\n",
    "import torchmetrics.functional.detection.iou\n",
    "\n",
    "# Example segmentation mask predictions and targets\n",
    "pred = torch.randint(0, 2, (10, 10))  # Simulated prediction mask\n",
    "target = torch.randint(0, 2, (10, 10))  # Simulated target mask\n",
    "\n",
    "# Calculate IoU for binary classification\n",
    "iou = iou(pred, target, num_classes=2, reduction=\"none\")\n",
    "print(iou)"
   ]
  },
  {
   "cell_type": "code",
   "execution_count": 25,
   "metadata": {},
   "outputs": [
    {
     "name": "stdout",
     "output_type": "stream",
     "text": [
      "CUDA available:True\n",
      "CUDA_HOME:/home.stud/svobo114/.conda/envs/detect_env_clone\n",
      "[<torch.cuda.device object at 0x7f0c37318250>]\n",
      "1\n"
     ]
    }
   ],
   "source": [
    "# CUDA tests and setup\n",
    "\n",
    "os.environ[\"CUDA_VISIBLE_DEVICES\"] = \"0\"  # might not be viable, check again!\n",
    "torch.device(\"cuda\" if torch.cuda.is_available() else \"cpu\")\n",
    "\n",
    "print(\"CUDA available:\" + str(torch.cuda.is_available()))\n",
    "print(\"CUDA_HOME:\" + str(CUDA_HOME))\n",
    "\n",
    "available_gpus = [torch.cuda.device(i) for i in range(torch.cuda.device_count())]\n",
    "print(available_gpus)\n",
    "print(torch.cuda.device_count())"
   ]
  },
  {
   "cell_type": "code",
   "execution_count": 20,
   "metadata": {},
   "outputs": [
    {
     "name": "stdout",
     "output_type": "stream",
     "text": [
      "loading annotations into memory...\n",
      "Done (t=12.78s)\n",
      "creating index...\n",
      "index created!\n"
     ]
    }
   ],
   "source": [
    "transforms = None\n",
    "coco_train_dataset = CocoLoader(get_coco_split(), transform=transforms)\n",
    "# len 2014 = 82783\n",
    "# len 2017 = 118287"
   ]
  },
  {
   "cell_type": "code",
   "execution_count": 14,
   "metadata": {},
   "outputs": [],
   "source": [
    "sam_wrapper = segmentation_models.SamWrapper(model=\"b\", device=\"cuda\")"
   ]
  },
  {
   "cell_type": "code",
   "execution_count": 26,
   "metadata": {},
   "outputs": [],
   "source": [
    "# Set batch size and number of workers\n",
    "batch_size = 7\n",
    "num_workers = 4\n",
    "\n",
    "# Clear CUDA cache\n",
    "with torch.no_grad():\n",
    "    torch.cuda.empty_cache()\n",
    "gc.collect()\n",
    "\n",
    "# Create DataLoader from the training dataset\n",
    "data_loader = coco_train_dataset.instantiate_loader(batch_size=batch_size, num_workers=num_workers)\n",
    "\n",
    "# large SAM-1 for 20 GB GPU with cca 7 boxes per image      -> batch<=4, (maybe 5 if lucky)\n",
    "# base SAM-1 for 20 GB  , 7 boxes                           -> batch<=7"
   ]
  },
  {
   "cell_type": "code",
   "execution_count": 38,
   "metadata": {},
   "outputs": [
    {
     "name": "stdout",
     "output_type": "stream",
     "text": [
      "7\n",
      "torch.Size([3, 480, 640])\n",
      "7\n",
      "dict_keys(['boxes', 'masks', 'categories'])\n",
      "{'image': tensor([[[  2,   1,   0,  ..., 134, 134, 131],\n",
      "         [  5,   3,   1,  ..., 137, 135, 131],\n",
      "         [  1,   0,   0,  ..., 138, 136, 132],\n",
      "         ...,\n",
      "         [  3,   6,   7,  ...,   0,   4,  10],\n",
      "         [  5,   5,   7,  ...,  13,   6,   3],\n",
      "         [  4,   5,   7,  ...,   1,   2,   2]],\n",
      "\n",
      "        [[ 24,  23,  22,  ..., 171, 171, 168],\n",
      "         [ 25,  23,  22,  ..., 174, 172, 168],\n",
      "         [ 21,  20,  19,  ..., 175, 173, 169],\n",
      "         ...,\n",
      "         [  1,   1,   1,  ...,  11,  10,   4],\n",
      "         [  0,   0,   3,  ...,   8,   2,   2],\n",
      "         [  0,   0,   3,  ...,   3,   3,   5]],\n",
      "\n",
      "        [[109, 109, 108,  ..., 197, 197, 195],\n",
      "         [112, 112, 111,  ..., 200, 198, 194],\n",
      "         [110, 109, 111,  ..., 201, 199, 195],\n",
      "         ...,\n",
      "         [  4,   5,   5,  ...,  37,  36,  32],\n",
      "         [  6,   4,   4,  ...,  38,  25,  20],\n",
      "         [  5,   4,   2,  ...,  26,  23,  20]]], dtype=torch.uint8), 'annotations': {'boxes': tensor([[  1.0800, 187.6900, 612.6700, 473.5300],\n",
      "        [311.7300,   4.3100, 631.0100, 232.9900],\n",
      "        [249.6000, 229.2700, 565.8400, 474.3500],\n",
      "        [  0.0000,  13.5100, 434.4800, 388.6300],\n",
      "        [376.2000,  40.3600, 451.7500,  86.8900],\n",
      "        [465.7800,  38.9700, 523.8500,  85.6400],\n",
      "        [385.7000,  73.6600, 469.7200, 144.1700],\n",
      "        [364.0500,   2.4900, 458.8100,  73.5600]]), 'masks': tensor([[[0., 0., 0.,  ..., 0., 0., 0.],\n",
      "         [0., 0., 0.,  ..., 0., 0., 0.],\n",
      "         [0., 0., 0.,  ..., 0., 0., 0.],\n",
      "         ...,\n",
      "         [0., 0., 0.,  ..., 0., 0., 0.],\n",
      "         [0., 0., 0.,  ..., 0., 0., 0.],\n",
      "         [0., 0., 0.,  ..., 0., 0., 0.]],\n",
      "\n",
      "        [[0., 0., 0.,  ..., 0., 0., 0.],\n",
      "         [0., 0., 0.,  ..., 0., 0., 0.],\n",
      "         [0., 0., 0.,  ..., 0., 0., 0.],\n",
      "         ...,\n",
      "         [0., 0., 0.,  ..., 0., 0., 0.],\n",
      "         [0., 0., 0.,  ..., 0., 0., 0.],\n",
      "         [0., 0., 0.,  ..., 0., 0., 0.]],\n",
      "\n",
      "        [[0., 0., 0.,  ..., 0., 0., 0.],\n",
      "         [0., 0., 0.,  ..., 0., 0., 0.],\n",
      "         [0., 0., 0.,  ..., 0., 0., 0.],\n",
      "         ...,\n",
      "         [0., 0., 0.,  ..., 0., 0., 0.],\n",
      "         [0., 0., 0.,  ..., 0., 0., 0.],\n",
      "         [0., 0., 0.,  ..., 0., 0., 0.]],\n",
      "\n",
      "        ...,\n",
      "\n",
      "        [[0., 0., 0.,  ..., 0., 0., 0.],\n",
      "         [0., 0., 0.,  ..., 0., 0., 0.],\n",
      "         [0., 0., 0.,  ..., 0., 0., 0.],\n",
      "         ...,\n",
      "         [0., 0., 0.,  ..., 0., 0., 0.],\n",
      "         [0., 0., 0.,  ..., 0., 0., 0.],\n",
      "         [0., 0., 0.,  ..., 0., 0., 0.]],\n",
      "\n",
      "        [[0., 0., 0.,  ..., 0., 0., 0.],\n",
      "         [0., 0., 0.,  ..., 0., 0., 0.],\n",
      "         [0., 0., 0.,  ..., 0., 0., 0.],\n",
      "         ...,\n",
      "         [0., 0., 0.,  ..., 0., 0., 0.],\n",
      "         [0., 0., 0.,  ..., 0., 0., 0.],\n",
      "         [0., 0., 0.,  ..., 0., 0., 0.]],\n",
      "\n",
      "        [[0., 0., 0.,  ..., 0., 0., 0.],\n",
      "         [0., 0., 0.,  ..., 0., 0., 0.],\n",
      "         [0., 0., 0.,  ..., 0., 0., 0.],\n",
      "         ...,\n",
      "         [0., 0., 0.,  ..., 0., 0., 0.],\n",
      "         [0., 0., 0.,  ..., 0., 0., 0.],\n",
      "         [0., 0., 0.,  ..., 0., 0., 0.]]]), 'categories': tensor([51., 51., 56., 51., 55., 55., 55., 55.])}}\n"
     ]
    }
   ],
   "source": [
    "for batch in data_loader:\n",
    "    print(len(batch[0])) #first order is list\n",
    "    print(batch[0][0].shape) #image in torch format\n",
    "    print(len(batch[1])) \n",
    "    print(batch[1][0].keys()) #target in torch format\n",
    "    break\n",
    "\n",
    "print(coco_train_dataset[0])"
   ]
  },
  {
   "cell_type": "code",
   "execution_count": null,
   "metadata": {},
   "outputs": [],
   "source": [
    "dataset_IoU = JaccardIndex(task=\"binary\")\n",
    "results = sam_wrapper.infer_masks(\n",
    "    data_loader, boxes=None, metrics_class=dataset_IoU, batches=10\n",
    ")\n",
    "print(dataset_IoU.compute())"
   ]
  },
  {
   "cell_type": "code",
   "execution_count": 47,
   "metadata": {},
   "outputs": [
    {
     "name": "stdout",
     "output_type": "stream",
     "text": [
      "Batch: 0\n",
      "Max GB allocated: 18.353\n",
      "Batch: 1\n",
      "Max GB allocated: 18.353\n",
      "Batch: 2\n",
      "Max GB allocated: 18.376\n",
      "Batch: 3\n",
      "Max GB allocated: 18.376\n",
      "Batch: 4\n",
      "Max GB allocated: 18.432\n",
      "Batch: 5\n",
      "Max GB allocated: 18.432\n",
      "Batch: 6\n",
      "Max GB allocated: 18.432\n",
      "Batch: 7\n",
      "Max GB allocated: 18.432\n",
      "Batch: 8\n",
      "Max GB allocated: 18.432\n",
      "Batch: 9\n",
      "Max GB allocated: 18.432\n",
      "Batch: 10\n",
      "Max GB allocated: 18.432\n",
      "Mean IoU: tensor(0.7451)\n"
     ]
    }
   ],
   "source": [
    "batch_max = 10 #7200*7=50400 images cca 1/2 of 2017 dataset\n",
    "#not up to date with pipeline\n",
    "\n",
    "# CUDA cleanup before running\n",
    "with torch.no_grad():\n",
    "    torch.cuda.empty_cache()\n",
    "gc.collect()\n",
    "torch.cuda.reset_peak_memory_stats()\n",
    "\n",
    "dataset_IoU = JaccardIndex(task=\"binary\")  # bg x mask\n",
    "\n",
    "# run batches\n",
    "for i, batch in enumerate(data_loader):\n",
    "\n",
    "    # separate GT for metrics\n",
    "    gt_boxes = []\n",
    "    gt_masks = []\n",
    "    images_to_process = []\n",
    "    for j in range(len(images_pil)):\n",
    "        masks_img, boxes_img = utils.coco_masks_boxes(\n",
    "            metadata[j], api\n",
    "        )  # load boxes x0,y0,x1,y1\n",
    "        if len(boxes_img) == 0:\n",
    "            continue\n",
    "\n",
    "        boxes_img = torch.Tensor(boxes_img)  # change format and to tensor\n",
    "        masks_img = masks_img\n",
    "        gt_boxes.append(boxes_img)\n",
    "        gt_masks.append(masks_img)\n",
    "        images_to_process.append(images_pil[j])\n",
    "\n",
    "    if len(gt_masks) == 0:\n",
    "        print(\"no masks in batch\")\n",
    "        continue  # next batch alltogether\n",
    "\n",
    "\n",
    "    # TODO for now using GT boxes, later detection module HERE\n",
    "    inferrence_boxes = gt_boxes\n",
    "\n",
    "    # prepare input for batch\n",
    "    sam_batched_inputs = []\n",
    "    for j in range(len(images_to_process)):\n",
    "        img = np.array(images_to_process[j])\n",
    "        dict_img = {  # written according to official sam notebook predictor.ipynb\n",
    "            \"image\": utils.prepare_image_for_batch(img, resize_transform, sam.device),\n",
    "            \"boxes\": resize_transform.apply_boxes_torch(\n",
    "                inferrence_boxes[j].to(sam.device), img.shape[:2]\n",
    "            ),\n",
    "            \"original_size\": img.shape[:2],\n",
    "        }\n",
    "        if len(inferrence_boxes[j]) > 0:\n",
    "            sam_batched_inputs.append(dict_img)\n",
    "\n",
    "    # run inference\n",
    "    batched_output = sam(sam_batched_inputs, multimask_output=True)\n",
    "\n",
    "    # Take best masks in each image\n",
    "    for j, dict_output in enumerate(\n",
    "        batched_output\n",
    "    ):  # dict_keys(['masks', 'iou_predictions', 'low_res_logits'])\n",
    "        pred_quality = dict_output[\"iou_predictions\"]\n",
    "        best = np.argmax(pred_quality.cpu(), axis=1)\n",
    "\n",
    "        arange = torch.arange(best.shape[0])\n",
    "        best_masks = dict_output[\"masks\"][arange, best]  # take best mask for each box\n",
    "\n",
    "        # calculate metric over one\n",
    "        if len(gt_masks[j]) == 0:\n",
    "            print(\"no masks! but \" + str(len(gt_boxes[j])) + \" boxes\")\n",
    "\n",
    "        dataset_IoU.update(best_masks.cpu(), torch.Tensor(gt_masks[j]))  # both on cpu?\n",
    "\n",
    "    print(\n",
    "        \"Max GB allocated: \"\n",
    "        + str(torch.cuda.max_memory_allocated() // 1000000000)  # full GB\n",
    "        + \".\"\n",
    "        + str(\n",
    "            (torch.cuda.max_memory_allocated() % 1000_000_000) // 1_000_000\n",
    "        )  # 3 digits\n",
    "    )\n",
    "    if i >= batch_max:  # just few batches for now, print final IoU\n",
    "        print(\"Mean IoU: \" + str(dataset_IoU.compute()))\n",
    "        break\n",
    "\n",
    "\n",
    "# CUDA cleanup after running\n",
    "with torch.no_grad():\n",
    "    gc.collect()"
   ]
  },
  {
   "cell_type": "code",
   "execution_count": 43,
   "metadata": {},
   "outputs": [
    {
     "ename": "ZeroDivisionError",
     "evalue": "division by zero",
     "output_type": "error",
     "traceback": [
      "\u001b[0;31m---------------------------------------------------------------------------\u001b[0m",
      "\u001b[0;31mZeroDivisionError\u001b[0m                         Traceback (most recent call last)",
      "Cell \u001b[0;32mIn[43], line 1\u001b[0m\n\u001b[0;32m----> 1\u001b[0m \u001b[38;5;28mprint\u001b[39m(\u001b[38;5;241;43m1\u001b[39;49m\u001b[43m \u001b[49m\u001b[38;5;241;43m/\u001b[39;49m\u001b[43m \u001b[49m\u001b[38;5;241;43m0\u001b[39;49m)\n",
      "\u001b[0;31mZeroDivisionError\u001b[0m: division by zero"
     ]
    }
   ],
   "source": [
    "print(1 / 0)"
   ]
  },
  {
   "cell_type": "markdown",
   "metadata": {},
   "source": [
    "### Working with IoU, recall visualisation"
   ]
  },
  {
   "cell_type": "code",
   "execution_count": 6,
   "metadata": {},
   "outputs": [
    {
     "name": "stdout",
     "output_type": "stream",
     "text": [
      "Number of NaN items:  0\n",
      "Number of zeroes:  15\n"
     ]
    }
   ],
   "source": [
    "filename = \"out/coco_base_thresholds_36235.npy\"\n",
    "#   out/coco_base_thresholds_36235.npy\n",
    "#   out/coco_full_thresholds_860001.npy\n",
    "#   out/coco_large_thresholds_36257.npy\n",
    "with open(filename, \"rb\") as f:\n",
    "    thresholds = np.load(f)\n",
    "\n",
    "num_nan = np.isnan(thresholds).sum()\n",
    "print(\"Number of NaN items: \", num_nan)\n",
    "print(\"Number of zeroes: \", (thresholds == 0).sum())\n",
    "thresholds[np.isnan(thresholds)] = 0."
   ]
  },
  {
   "cell_type": "code",
   "execution_count": 7,
   "metadata": {},
   "outputs": [
    {
     "name": "stdout",
     "output_type": "stream",
     "text": [
      "0.7593172\n",
      "0.8124253\n"
     ]
    }
   ],
   "source": [
    "print(np.mean(thresholds))\n",
    "print(np.median(thresholds))"
   ]
  },
  {
   "cell_type": "code",
   "execution_count": 8,
   "metadata": {},
   "outputs": [
    {
     "name": "stdout",
     "output_type": "stream",
     "text": [
      "0.9751621360562992\n"
     ]
    }
   ],
   "source": [
    "thr=0.25\n",
    "print(np.sum(thresholds>=thr)/len(thresholds))"
   ]
  },
  {
   "cell_type": "code",
   "execution_count": 9,
   "metadata": {},
   "outputs": [
    {
     "data": {
      "image/png": "[encoded data removed]",
      "text/plain": [
       "<Figure size 640x480 with 1 Axes>"
      ]
     },
     "metadata": {},
     "output_type": "display_data"
    }
   ],
   "source": [
    "lspace = np.linspace(0.,1.,100)\n",
    "\n",
    "# Calculate the number of objects in each bin\n",
    "hist, bins, _ = plt.hist(thresholds, bins=lspace)\n",
    "\n",
    "# Find the bin index where the mean value of thresholds falls\n",
    "mean_threshold = np.mean(thresholds)\n",
    "median_threshold = np.median(thresholds)\n",
    "plt.axvline(x=mean_threshold, color='red', linestyle='--')\n",
    "plt.axvline(x=median_threshold, color=\"black\", linestyle=\"--\")\n",
    "# Add labels and title\n",
    "plt.xlabel('IoU')\n",
    "plt.ylabel('Frequency')\n",
    "plt.title('IoU histogram: SAM_b, 5k data')\n",
    "\n",
    "mean = \"{:.2f}\".format(mean_threshold)\n",
    "median = \"{:.2f}\".format(median_threshold)\n",
    "plt.legend([f\"Mean - {mean}\", f\"Median - {median}\"])\n",
    "# Show the plot\n",
    "plt.show()"
   ]
  },
  {
   "cell_type": "code",
   "execution_count": 10,
   "metadata": {},
   "outputs": [],
   "source": [
    "filename_base = \"out/coco_base_thresholds_36235.npy\"\n",
    "filename_large = \"out/coco_large_thresholds_36257.npy\"\n",
    "\n",
    "with open(filename_base, \"rb\") as f:\n",
    "    base = np.load(f)\n",
    "with open(filename_large, \"rb\") as f:\n",
    "    large = np.load(f)\n",
    "\n",
    "base[np.isnan(base)] = 0.0\n",
    "large[np.isnan(large)] = 0.0"
   ]
  },
  {
   "cell_type": "code",
   "execution_count": 12,
   "metadata": {},
   "outputs": [
    {
     "data": {
      "image/png": "[encoded data removed]",
      "text/plain": [
       "<Figure size 1000x600 with 1 Axes>"
      ]
     },
     "metadata": {},
     "output_type": "display_data"
    }
   ],
   "source": [
    "plt.figure(figsize=(10, 6))\n",
    "\n",
    "# Plot the \"large\" histogram\n",
    "bins = np.linspace(0, 1, 100)\n",
    "plt.hist(large, bins=bins, alpha=0.5, label='Huge', color='blue')\n",
    "\n",
    "# Plot the \"base\" histogram\n",
    "plt.hist(base, bins=bins, alpha=0.5, label='Base', color='orange')\n",
    "\n",
    "# Add labels and title\n",
    "plt.xlabel('IoU')\n",
    "plt.ylabel('Frequency')\n",
    "plt.title('Histogram Comparison: Base vs Huge SAM')\n",
    "\n",
    "# Add legend\n",
    "plt.legend()\n",
    "\n",
    "# Show the plot\n",
    "plt.show()"
   ]
  },
  {
   "cell_type": "markdown",
   "metadata": {},
   "source": [
    "### debug IoU??"
   ]
  },
  {
   "cell_type": "code",
   "execution_count": 13,
   "metadata": {},
   "outputs": [
    {
     "name": "stdout",
     "output_type": "stream",
     "text": [
      "tensor(0.7500)\n"
     ]
    },
    {
     "ename": "AttributeError",
     "evalue": "module 'utils' has no attribute 'IoU'",
     "output_type": "error",
     "traceback": [
      "\u001b[0;31m---------------------------------------------------------------------------\u001b[0m",
      "\u001b[0;31mAttributeError\u001b[0m                            Traceback (most recent call last)",
      "Cell \u001b[0;32mIn[13], line 6\u001b[0m\n\u001b[1;32m      3\u001b[0m jaccard \u001b[38;5;241m=\u001b[39m JaccardIndex(\u001b[38;5;124m'\u001b[39m\u001b[38;5;124mbinary\u001b[39m\u001b[38;5;124m'\u001b[39m)\n\u001b[1;32m      5\u001b[0m \u001b[38;5;28mprint\u001b[39m(jaccard\u001b[38;5;241m.\u001b[39mforward(torch\u001b[38;5;241m.\u001b[39mTensor(pred), torch\u001b[38;5;241m.\u001b[39mTensor(GT_mask)))\n\u001b[0;32m----> 6\u001b[0m \u001b[38;5;28mprint\u001b[39m(\u001b[43mutils\u001b[49m\u001b[38;5;241;43m.\u001b[39;49m\u001b[43mIoU\u001b[49m(pred, GT_mask))\n",
      "\u001b[0;31mAttributeError\u001b[0m: module 'utils' has no attribute 'IoU'"
     ]
    }
   ],
   "source": [
    "GT_mask=np.array([0,0,1,1,1])\n",
    "pred = np.array([0, 1, 1, 1, 1])\n",
    "jaccard = JaccardIndex('binary')\n",
    "\n",
    "print(jaccard.forward(torch.Tensor(pred), torch.Tensor(GT_mask)))\n",
    "print(utils.IoU(pred, GT_mask))\n"
   ]
  }
 ],
 "metadata": {
  "kernelspec": {
   "display_name": "detect_env_clone",
   "language": "python",
   "name": "python3"
  },
  "language_info": {
   "codemirror_mode": {
    "name": "ipython",
    "version": 3
   },
   "file_extension": ".py",
   "mimetype": "text/x-python",
   "name": "python",
   "nbconvert_exporter": "python",
   "pygments_lexer": "ipython3",
   "version": "3.11.9"
  }
 },
 "nbformat": 4,
 "nbformat_minor": 2
}
