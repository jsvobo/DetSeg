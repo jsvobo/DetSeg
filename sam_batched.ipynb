{
 "cells": [
  {
   "cell_type": "code",
   "execution_count": 1,
   "metadata": {},
   "outputs": [
    {
     "name": "stderr",
     "output_type": "stream",
     "text": [
      "/home.stud/svobo114/.conda/envs/detect_env_clone/lib/python3.11/site-packages/tqdm/auto.py:22: TqdmWarning: IProgress not found. Please update jupyter and ipywidgets. See https://ipywidgets.readthedocs.io/en/stable/user_install.html\n",
      "  from .autonotebook import tqdm as notebook_tqdm\n"
     ]
    }
   ],
   "source": [
    "%matplotlib inline\n",
    "%load_ext autoreload\n",
    "%autoreload 2\n",
    "\n",
    "#libs\n",
    "import matplotlib.pyplot as plt\n",
    "from matplotlib import colormaps\n",
    "import numpy as np\n",
    "import os\n",
    "import gc\n",
    "\n",
    "import torch \n",
    "from torch.utils.data import DataLoader\n",
    "from torch.utils.cpp_extension import CUDA_HOME\n",
    "\n",
    "import torchvision\n",
    "from torchvision.transforms.functional import pil_to_tensor\n",
    "from torchmetrics import JaccardIndex\n",
    "\n",
    "#our classes\n",
    "import utils #contains sam_utils, visual_utils, and other utility functions\n",
    "from datasets.dataset_loading import CocoLoader \n",
    "\n",
    "#sam\n",
    "from segment_anything import SamPredictor, sam_model_registry, SamAutomaticMaskGenerator\n",
    "from segment_anything.utils.transforms import ResizeLongestSide"
   ]
  },
  {
   "cell_type": "code",
   "execution_count": 2,
   "metadata": {},
   "outputs": [
    {
     "name": "stdout",
     "output_type": "stream",
     "text": [
      "CUDA available:True\n",
      "CUDA_HOME:/home.stud/svobo114/.conda/envs/detect_env_clone\n",
      "[<torch.cuda.device object at 0x7f9f98e1d750>]\n",
      "1\n"
     ]
    }
   ],
   "source": [
    "# CUDA tests and setup\n",
    "\n",
    "os.environ[\"CUDA_VISIBLE_DEVICES\"] = \"1\"  # might not be viable, check again!\n",
    "torch.device(\"cuda\" if torch.cuda.is_available() else \"cpu\")\n",
    "\n",
    "print(\"CUDA available:\" + str(torch.cuda.is_available()))\n",
    "print(\"CUDA_HOME:\" + str(CUDA_HOME))\n",
    "\n",
    "available_gpus = [torch.cuda.device(i) for i in range(torch.cuda.device_count())]\n",
    "print(available_gpus)\n",
    "print(torch.cuda.device_count())"
   ]
  },
  {
   "cell_type": "code",
   "execution_count": 3,
   "metadata": {},
   "outputs": [
    {
     "name": "stdout",
     "output_type": "stream",
     "text": [
      "loading annotations into memory...\n",
      "Done (t=10.01s)\n",
      "creating index...\n",
      "index created!\n",
      "118287\n"
     ]
    }
   ],
   "source": [
    "coco = CocoLoader()\n",
    "transforms = None\n",
    "data_train, api = coco.load_train(transformations=transforms)\n",
    "print(len(data_train))\n",
    "# len 2014 = 82783\n",
    "# len 2017 = 118287"
   ]
  },
  {
   "cell_type": "code",
   "execution_count": 4,
   "metadata": {},
   "outputs": [
    {
     "name": "stderr",
     "output_type": "stream",
     "text": [
      "/home.stud/svobo114/.conda/envs/detect_env_clone/lib/python3.11/site-packages/segment_anything/build_sam.py:105: FutureWarning: You are using `torch.load` with `weights_only=False` (the current default value), which uses the default pickle module implicitly. It is possible to construct malicious pickle data which will execute arbitrary code during unpickling (See https://github.com/pytorch/pytorch/blob/main/SECURITY.md#untrusted-models for more details). In a future release, the default value for `weights_only` will be flipped to `True`. This limits the functions that could be executed during unpickling. Arbitrary objects will no longer be allowed to be loaded via this mode unless they are explicitly allowlisted by the user via `torch.serialization.add_safe_globals`. We recommend you start setting `weights_only=True` for any use case where you don't have full control of the loaded file. Please open an issue on GitHub for any issues related to this experimental feature.\n",
      "  state_dict = torch.load(f)\n"
     ]
    }
   ],
   "source": [
    "predictor, sam = utils.prepare_sam(\"cuda\", model=\"b\")\n",
    "resize_transform = ResizeLongestSide(sam.image_encoder.img_size)"
   ]
  },
  {
   "cell_type": "code",
   "execution_count": 46,
   "metadata": {},
   "outputs": [],
   "source": [
    "# Set batch size and number of workers\n",
    "batch_size = 7\n",
    "num_workers = 4\n",
    "shuffle = True\n",
    "\n",
    "# Clear CUDA cache\n",
    "with torch.no_grad():\n",
    "    torch.cuda.empty_cache()\n",
    "gc.collect()\n",
    "\n",
    "# Create DataLoader from the training dataset\n",
    "data_loader = DataLoader(\n",
    "    data_train,\n",
    "    batch_size=batch_size,\n",
    "    shuffle=shuffle,\n",
    "    num_workers=num_workers,\n",
    "    collate_fn=lambda x: tuple(zip(*x)),\n",
    ")\n",
    "\n",
    "# large SAM-1 for 20 GB GPU with cca 7 boxes per image      -> batch<=4, (maybe 5 if lucky)\n",
    "# base SAM-1 for 20 GB  , 7 boxes                           -> batch<=7 "
   ]
  },
  {
   "cell_type": "code",
   "execution_count": 47,
   "metadata": {},
   "outputs": [
    {
     "name": "stdout",
     "output_type": "stream",
     "text": [
      "Batch: 0\n",
      "Max GB allocated: 18.353\n",
      "Batch: 1\n",
      "Max GB allocated: 18.353\n",
      "Batch: 2\n",
      "Max GB allocated: 18.376\n",
      "Batch: 3\n",
      "Max GB allocated: 18.376\n",
      "Batch: 4\n",
      "Max GB allocated: 18.432\n",
      "Batch: 5\n",
      "Max GB allocated: 18.432\n",
      "Batch: 6\n",
      "Max GB allocated: 18.432\n",
      "Batch: 7\n",
      "Max GB allocated: 18.432\n",
      "Batch: 8\n",
      "Max GB allocated: 18.432\n",
      "Batch: 9\n",
      "Max GB allocated: 18.432\n",
      "Batch: 10\n",
      "Max GB allocated: 18.432\n",
      "Mean IoU: tensor(0.7451)\n"
     ]
    }
   ],
   "source": [
    "debug_visuals = False\n",
    "batch_max = 10 #7200*7=50400 images cca 1/2 of 2017 dataset\n",
    "\n",
    "# CUDA cleanup before running\n",
    "with torch.no_grad():\n",
    "    torch.cuda.empty_cache()\n",
    "gc.collect()\n",
    "torch.cuda.reset_peak_memory_stats()\n",
    "\n",
    "dataset_IoU = JaccardIndex(task=\"binary\")  # bg x mask\n",
    "\n",
    "# run batches\n",
    "for i, batch in enumerate(data_loader):\n",
    "    print(\"Batch: \" + str(i))\n",
    "    images_pil = list(batch[0])\n",
    "    metadata = list(batch[1])\n",
    "\n",
    "    # separate GT for metrics\n",
    "    gt_boxes = []\n",
    "    gt_masks = []\n",
    "    images_to_process = []\n",
    "    for j in range(len(images_pil)):\n",
    "        masks_img, boxes_img = utils.coco_masks_boxes(\n",
    "            metadata[j], api\n",
    "        )  # load boxes x0,y0,x1,y1\n",
    "        if len(boxes_img) == 0:\n",
    "            continue\n",
    "\n",
    "        boxes_img = torch.Tensor(boxes_img)  # change format and to tensor\n",
    "        masks_img = masks_img\n",
    "        gt_boxes.append(boxes_img)\n",
    "        gt_masks.append(masks_img)\n",
    "        images_to_process.append(images_pil[j])\n",
    "\n",
    "    if len(gt_masks) == 0:\n",
    "        print(\"no masks in batch\")\n",
    "        continue  # next batch alltogether\n",
    "\n",
    "\n",
    "    # TODO for now using GT boxes, later detection module HERE\n",
    "    inferrence_boxes = gt_boxes\n",
    "\n",
    "    # prepare input for batch\n",
    "    sam_batched_inputs = []\n",
    "    for j in range(len(images_to_process)):\n",
    "        img = np.array(images_to_process[j])\n",
    "        dict_img = {  # written according to official sam notebook predictor.ipynb\n",
    "            \"image\": utils.prepare_image_for_batch(img, resize_transform, sam.device),\n",
    "            \"boxes\": resize_transform.apply_boxes_torch(\n",
    "                inferrence_boxes[j].to(sam.device), img.shape[:2]\n",
    "            ),\n",
    "            \"original_size\": img.shape[:2],\n",
    "        }\n",
    "        if len(inferrence_boxes[j]) > 0:\n",
    "            sam_batched_inputs.append(dict_img)\n",
    "\n",
    "    # run inference\n",
    "    batched_output = sam(sam_batched_inputs, multimask_output=True)\n",
    "\n",
    "    # Take best masks in each image\n",
    "    for j, dict_output in enumerate(\n",
    "        batched_output\n",
    "    ):  # dict_keys(['masks', 'iou_predictions', 'low_res_logits'])\n",
    "        pred_quality = dict_output[\"iou_predictions\"]\n",
    "        best = np.argmax(pred_quality.cpu(), axis=1)\n",
    "\n",
    "        arange = torch.arange(best.shape[0])\n",
    "        best_masks = dict_output[\"masks\"][arange, best]  # take best mask for each box\n",
    "\n",
    "        # visualize if needed?\n",
    "        if debug_visuals:\n",
    "            plt.imshow(images_pil[j])\n",
    "            utils.plot_box(box=gt_boxes[j][0], ax=plt.gca())\n",
    "            plt.axis(\"off\")\n",
    "            plt.show()\n",
    "\n",
    "            plt.imshow(best_masks.cpu().numpy()[0])\n",
    "            plt.axis(\"off\")\n",
    "            plt.show()\n",
    "\n",
    "            plt.imshow(gt_masks[j][0])\n",
    "            plt.axis(\"off\")\n",
    "            plt.show()\n",
    "\n",
    "        # calculate metric over one\n",
    "        if len(gt_masks[j]) == 0:\n",
    "            print(\"no masks! but \" + str(len(gt_boxes[j])) + \" boxes\")\n",
    "\n",
    "        dataset_IoU.update(best_masks.cpu(), torch.Tensor(gt_masks[j]))  # both on cpu?\n",
    "\n",
    "    print(\n",
    "        \"Max GB allocated: \"\n",
    "        + str(torch.cuda.max_memory_allocated() // 1000000000)  # full GB\n",
    "        + \".\"\n",
    "        + str(\n",
    "            (torch.cuda.max_memory_allocated() % 1000_000_000) // 1_000_000\n",
    "        )  # 3 digits\n",
    "    )\n",
    "    if i >= batch_max:  # just few batches for now, print final IoU\n",
    "        print(\"Mean IoU: \" + str(dataset_IoU.compute()))\n",
    "        break\n",
    "\n",
    "\n",
    "# CUDA cleanup after running\n",
    "with torch.no_grad():\n",
    "    gc.collect()"
   ]
  },
  {
   "cell_type": "code",
   "execution_count": 43,
   "metadata": {},
   "outputs": [
    {
     "ename": "ZeroDivisionError",
     "evalue": "division by zero",
     "output_type": "error",
     "traceback": [
      "\u001b[0;31m---------------------------------------------------------------------------\u001b[0m",
      "\u001b[0;31mZeroDivisionError\u001b[0m                         Traceback (most recent call last)",
      "Cell \u001b[0;32mIn[43], line 1\u001b[0m\n\u001b[0;32m----> 1\u001b[0m \u001b[38;5;28mprint\u001b[39m(\u001b[38;5;241;43m1\u001b[39;49m\u001b[43m \u001b[49m\u001b[38;5;241;43m/\u001b[39;49m\u001b[43m \u001b[49m\u001b[38;5;241;43m0\u001b[39;49m)\n",
      "\u001b[0;31mZeroDivisionError\u001b[0m: division by zero"
     ]
    }
   ],
   "source": [
    "print(1 / 0)"
   ]
  }
 ],
 "metadata": {
  "kernelspec": {
   "display_name": "detect_env_clone",
   "language": "python",
   "name": "python3"
  },
  "language_info": {
   "codemirror_mode": {
    "name": "ipython",
    "version": 3
   },
   "file_extension": ".py",
   "mimetype": "text/x-python",
   "name": "python",
   "nbconvert_exporter": "python",
   "pygments_lexer": "ipython3",
   "version": "3.11.9"
  }
 },
 "nbformat": 4,
 "nbformat_minor": 2
}
